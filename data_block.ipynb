{
  "nbformat": 4,
  "nbformat_minor": 0,
  "metadata": {
    "colab": {
      "name": "data_block.ipynb",
      "provenance": [],
      "collapsed_sections": [],
      "authorship_tag": "ABX9TyNZLwzhWkwjGRuhZeWFboib",
      "include_colab_link": true
    },
    "kernelspec": {
      "name": "python3",
      "display_name": "Python 3"
    }
  },
  "cells": [
    {
      "cell_type": "markdown",
      "metadata": {
        "id": "view-in-github",
        "colab_type": "text"
      },
      "source": [
        "<a href=\"https://colab.research.google.com/github/saraanwer15/Brain_Tumour/blob/main/data_block.ipynb\" target=\"_parent\"><img src=\"https://colab.research.google.com/assets/colab-badge.svg\" alt=\"Open In Colab\"/></a>"
      ]
    },
    {
      "cell_type": "code",
      "metadata": {
        "id": "gwIdjMM_5MY2"
      },
      "source": [
        "import os\n",
        "import random\n",
        "\n",
        "import numpy as np\n",
        "import torch\n",
        "from skimage.io import imread\n",
        "from torch.utils.data import Dataset\n",
        "import argparse"
      ],
      "execution_count": 2,
      "outputs": []
    },
    {
      "cell_type": "code",
      "metadata": {
        "id": "Qa-VgBq5G5aw"
      },
      "source": [
        "class BrainSegmentationDataset(Dataset):\n",
        "    \"\"\"Brain MRI dataset for FLAIR abnormality segmentation\"\"\"\n",
        "\n",
        "    in_channels = 3\n",
        "    out_channels = 1\n",
        "\n",
        "    def __init__(\n",
        "        self,\n",
        "        images_dir,\n",
        "        transform=None,\n",
        "        image_size=256,\n",
        "        subset=\"train\",\n",
        "        random_sampling=True,\n",
        "        validation_cases=10,\n",
        "        seed=42,\n",
        "    ):\n",
        "        assert subset in [\"all\", \"train\", \"validation\"]\n",
        "\n",
        "        # read images\n",
        "        volumes = {}\n",
        "        masks = {}\n",
        "        print(\"reading {} images...\".format(subset))\n",
        "        for (dirpath, dirnames, filenames) in os.walk(images_dir):\n",
        "            image_slices = []\n",
        "            mask_slices = []\n",
        "            for filename in sorted(\n",
        "                filter(lambda f: \".tif\" in f, filenames),\n",
        "                key=lambda x: int(x.split(\".\")[-2].split(\"_\")[4]),\n",
        "            ):\n",
        "                filepath = os.path.join(dirpath, filename)\n",
        "                if \"mask\" in filename:\n",
        "                    mask_slices.append(imread(filepath, as_gray=True))\n",
        "                else:\n",
        "                    image_slices.append(imread(filepath))\n",
        "            if len(image_slices) > 0:\n",
        "                patient_id = dirpath.split(\"/\")[-1]\n",
        "                volumes[patient_id] = np.array(image_slices[1:-1])\n",
        "                masks[patient_id] = np.array(mask_slices[1:-1])\n",
        "\n",
        "        self.patients = sorted(volumes)\n",
        "\n",
        "        # select cases to subset\n",
        "        if not subset == \"all\":\n",
        "            random.seed(seed)\n",
        "            validation_patients = random.sample(self.patients, k=validation_cases)\n",
        "            if subset == \"validation\":\n",
        "                self.patients = validation_patients\n",
        "            else:\n",
        "                self.patients = sorted(\n",
        "                    list(set(self.patients).difference(validation_patients))\n",
        "                )\n",
        "\n",
        "        print(\"preprocessing {} volumes...\".format(subset))\n",
        "        # create list of tuples (volume, mask)\n",
        "        self.volumes = [(volumes[k], masks[k]) for k in self.patients]\n",
        "\n",
        "        \"\"\" print(\"cropping {} volumes...\".format(subset))\n",
        "        # crop to smallest enclosing volume\n",
        "        self.volumes = [crop_sample(v) for v in self.volumes]\n",
        "\n",
        "        print(\"padding {} volumes...\".format(subset))\n",
        "        # pad to square\n",
        "        self.volumes = [pad_sample(v) for v in self.volumes]\n",
        "\n",
        "        print(\"resizing {} volumes...\".format(subset))\n",
        "        # resize\n",
        "        self.volumes = [resize_sample(v, size=image_size) for v in self.volumes]\n",
        "\n",
        "        print(\"normalizing {} volumes...\".format(subset))\n",
        "        # normalize channel-wise\n",
        "        self.volumes = [(normalize_volume(v), m) for v, m in self.volumes]\n",
        "\n",
        "\"\"\"\n",
        "        # probabilities for sampling slices based on masks\n",
        "        self.slice_weights = [m.sum(axis=-1).sum(axis=-1) for v, m in self.volumes]\n",
        "        self.slice_weights = [\n",
        "            (s + (s.sum() * 0.1 / len(s))) / (s.sum() * 1.1) for s in self.slice_weights\n",
        "        ]\n",
        "\n",
        "        # add channel dimension to masks\n",
        "        self.volumes = [(v, m[..., np.newaxis]) for (v, m) in self.volumes]\n",
        "\n",
        "        print(\"done creating {} dataset\".format(subset))\n",
        "\n",
        "        # create global index for patient and slice (idx -> (p_idx, s_idx))\n",
        "        num_slices = [v.shape[0] for v, m in self.volumes]\n",
        "        self.patient_slice_index = list(\n",
        "            zip(\n",
        "                sum([[i] * num_slices[i] for i in range(len(num_slices))], []),\n",
        "                sum([list(range(x)) for x in num_slices], []),\n",
        "            )\n",
        "        )\n",
        "\n",
        "        self.random_sampling = random_sampling\n",
        "\n",
        "        self.transform = transform\n",
        "\n",
        "    def __len__(self):\n",
        "        return len(self.patient_slice_index)\n",
        "\n",
        "    def __getitem__(self, idx):\n",
        "        patient = self.patient_slice_index[idx][0]\n",
        "        slice_n = self.patient_slice_index[idx][1]\n",
        "\n",
        "        if self.random_sampling:\n",
        "            patient = np.random.randint(len(self.volumes))\n",
        "            slice_n = np.random.choice(\n",
        "                range(self.volumes[patient][0].shape[0]), p=self.slice_weights[patient]\n",
        "            )\n",
        "\n",
        "        v, m = self.volumes[patient]\n",
        "        image = v[slice_n]\n",
        "        mask = m[slice_n]\n",
        "\n",
        "        if self.transform is not None:\n",
        "            image, mask = self.transform((image, mask))\n",
        "\n",
        "        # fix dimensions (C, H, W)\n",
        "        image = image.transpose(2, 0, 1)\n",
        "        mask = mask.transpose(2, 0, 1)\n",
        "\n",
        "        image_tensor = torch.from_numpy(image.astype(np.float32))\n",
        "        mask_tensor = torch.from_numpy(mask.astype(np.float32))\n",
        "\n",
        "        # return tensors\n",
        "        return image_tensor, mask_tensor\n"
      ],
      "execution_count": 3,
      "outputs": []
    },
    {
      "cell_type": "code",
      "metadata": {
        "id": "pA3pz9on2b1E"
      },
      "source": [
        "import sys\n",
        "sys.argv=['']\n",
        "del sys"
      ],
      "execution_count": 4,
      "outputs": []
    },
    {
      "cell_type": "code",
      "metadata": {
        "id": "Rhe0TKG2Ufvw"
      },
      "source": [
        "parser = argparse.ArgumentParser(\n",
        "      description=\"Training U-Net model for segmentation of brain MRI\"\n",
        ")\n",
        "parser.add_argument(\n",
        "      \"--batch-size\",\n",
        "      type=int,\n",
        "      default=16,\n",
        "      help=\"input batch size for training (default: 16)\",\n",
        ")\n",
        "parser.add_argument(\n",
        "      \"--epochs\",\n",
        "      type=int,\n",
        "      default=100,\n",
        "      help=\"number of epochs to train (default: 100)\",\n",
        ")\n",
        "parser.add_argument(\n",
        "      \"--lr\",\n",
        "      type=float,\n",
        "      default=0.0001,\n",
        "      help=\"initial learning rate (default: 0.001)\",\n",
        ")\n",
        "parser.add_argument(\n",
        "      \"--device\",\n",
        "      type=str,\n",
        "      default=\"cuda:0\",\n",
        "      help=\"device for training (default: cuda:0)\",\n",
        ")\n",
        "parser.add_argument(\n",
        "      \"--workers\",\n",
        "      type=int,\n",
        "      default=4,\n",
        "      help=\"number of workers for data loading (default: 4)\",\n",
        ")\n",
        "parser.add_argument(\n",
        "      \"--vis-images\",\n",
        "      type=int,\n",
        "      default=200,\n",
        "      help=\"number of visualization images to save in log file (default: 200)\",\n",
        ")\n",
        "parser.add_argument(\n",
        "      \"--vis-freq\",\n",
        "      type=int,\n",
        "      default=10,\n",
        "      help=\"frequency of saving images to log file (default: 10)\",\n",
        ")  \n",
        "parser.add_argument(\n",
        "      \"--image-size\",\n",
        "      type=int,\n",
        "      default=256,\n",
        "      help=\"target input image size (default: 256)\",\n",
        ")\n",
        "parser.add_argument(\n",
        "      \"--aug-scale\",\n",
        "      type=int,\n",
        "      default=0.05,\n",
        "      help=\"scale factor range for augmentation (default: 0.05)\",\n",
        ")\n",
        "parser.add_argument(\n",
        "      \"--aug-angle\",\n",
        "      type=int,\n",
        "      default=15,\n",
        "      help=\"rotation angle range in degrees for augmentation (default: 15)\",\n",
        ")\n",
        "parser.add_argument(\n",
        "      \"--images\", type=str, default=\"/content/drive/My Drive/archive/kaggle_3m\", help=\"root folder with images\"\n",
        ")\n",
        "args = parser.parse_args()"
      ],
      "execution_count": 6,
      "outputs": []
    },
    {
      "cell_type": "code",
      "metadata": {
        "id": "2HUsE-8uTgeb"
      },
      "source": [
        "def datasets(args):\n",
        "    train = BrainSegmentationDataset(\n",
        "        images_dir=args.images,\n",
        "        subset=\"train\",\n",
        "        image_size=args.image_size,\n",
        "    )\n",
        "    valid = BrainSegmentationDataset(\n",
        "        images_dir=args.images,\n",
        "        subset=\"validation\",\n",
        "        image_size=args.image_size,\n",
        "        random_sampling=False,\n",
        "    )\n",
        "    return train, valid"
      ],
      "execution_count": 7,
      "outputs": []
    },
    {
      "cell_type": "code",
      "metadata": {
        "id": "V7MWigk2ShFk",
        "outputId": "809f39be-7b82-483a-d1df-201d75a1f362",
        "colab": {
          "base_uri": "https://localhost:8080/",
          "height": 34
        }
      },
      "source": [
        "device = torch.device(\"cpu\" if not torch.cuda.is_available() else args.device)\n",
        "loader_train, loader_valid = datasets(args)\n",
        "loaders = {\"train\": loader_train, \"valid\": loader_valid}\n"
      ],
      "execution_count": null,
      "outputs": [
        {
          "output_type": "stream",
          "text": [
            "reading train images...\n"
          ],
          "name": "stdout"
        }
      ]
    },
    {
      "cell_type": "code",
      "metadata": {
        "id": "xyoA7dWlzb_V"
      },
      "source": [
        "%tb\n"
      ],
      "execution_count": null,
      "outputs": []
    }
  ]
}